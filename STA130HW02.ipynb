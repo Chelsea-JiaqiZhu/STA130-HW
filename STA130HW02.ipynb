{
  "nbformat": 4,
  "nbformat_minor": 0,
  "metadata": {
    "colab": {
      "provenance": [],
      "toc_visible": true
    },
    "kernelspec": {
      "name": "python3",
      "display_name": "Python 3"
    },
    "language_info": {
      "name": "python"
    }
  },
  "cells": [
    {
      "cell_type": "code",
      "execution_count": null,
      "metadata": {
        "id": "yCjGGMFjDe0x"
      },
      "outputs": [],
      "source": [
        "Q1"
      ]
    },
    {
      "cell_type": "markdown",
      "source": [
        "This Python code simulates a game similar to the \"Monty Hall problem\", where a player chooses one of three doors, behind one of which there is a prize (a car) and behind the others, goats. After the choice, one of the other two doors with a goat is revealed, and the player is given the option to switch their choice to the remaining unopened door. The code uses a strategy where the player always switches their choice after the goat door is revealed. Let's break down each line of the code:\n",
        "\n",
        "```python\n",
        "import numpy as np\n",
        "```\n",
        "- Imports the NumPy library, which provides support for large, multi-dimensional arrays and matrices, along with a large collection of high-level mathematical functions to operate on these arrays.\n",
        "\n",
        "```python\n",
        "all_door_options = (1,2,3)  # tuple\n",
        "```\n",
        "- Defines a tuple containing the numbers 1, 2, and 3, representing the three doors.\n",
        "\n",
        "```python\n",
        "my_door_choice = 1  # 1,2,3\n",
        "```\n",
        "- Initializes the player’s door choice to door 1. This could be any door (1, 2, or 3).\n",
        "\n",
        "```python\n",
        "i_won = 0\n",
        "```\n",
        "- Initializes a counter to zero to keep track of the number of times the player wins by switching doors.\n",
        "\n",
        "```python\n",
        "reps = 100000\n",
        "```\n",
        "- Sets the number of repetitions for the simulation to 100,000 to achieve statistically significant results.\n",
        "\n",
        "```python\n",
        "for i in range(reps):\n",
        "```\n",
        "- Starts a loop that will iterate 100,000 times, simulating the game that many times.\n",
        "\n",
        "```python\n",
        "    secret_winning_door = np.random.choice(all_door_options)\n",
        "```\n",
        "- Randomly selects one of the doors (1, 2, or 3) to be the winning door (where the car is) for this iteration.\n",
        "\n",
        "```python\n",
        "    all_door_options_list = list(all_door_options)\n",
        "```\n",
        "- Converts the tuple of door options to a list, allowing elements to be removed and added during the simulation.\n",
        "\n",
        "```python\n",
        "    all_door_options_list.remove(secret_winning_door)\n",
        "```\n",
        "- Removes the winning door from the list of doors temporarily to simulate the host's knowledge not revealing the winning door as a goat door.\n",
        "\n",
        "```python\n",
        "    try:\n",
        "        all_door_options_list.remove(my_door_choice)\n",
        "    except:\n",
        "        pass\n",
        "```\n",
        "- Tries to remove the player's initial door choice from the list. If the player’s choice is the winning door, this door has already been removed, and the exception will catch the error without doing anything.\n",
        "\n",
        "```python\n",
        "    goat_door_reveal = np.random.choice(all_door_options_list)\n",
        "```\n",
        "- Randomly selects one of the remaining doors to reveal a goat.\n",
        "\n",
        "```python\n",
        "    all_door_options_list.remove(goat_door_reveal)\n",
        "```\n",
        "- Removes the revealed goat door from the list.\n",
        "\n",
        "```python\n",
        "    if secret_winning_door != my_door_choice:\n",
        "        all_door_options_list.append(secret_winning_door)\n",
        "```\n",
        "- If the initial choice was not the winning door, adds the winning door back to the list to simulate the player’s option to switch to the winning door.\n",
        "\n",
        "```python\n",
        "    my_door_choice = all_door_options_list[0]\n",
        "```\n",
        "- Changes the player's choice to the only remaining door in the list, effectively simulating the strategy of always switching.\n",
        "\n",
        "```python\n",
        "    if my_door_choice == secret_winning_door:\n",
        "        i_won += 1\n",
        "```\n",
        "- Checks if the new choice is the winning door. If it is, increments the win counter.\n",
        "\n",
        "```python\n",
        "i_won/reps\n",
        "```\n",
        "- Calculates the proportion of games won by switching doors over the total number of games played. This line is outside the loop and is executed after all simulations are complete.\n",
        "\n",
        "This code demonstrates that the strategy of always switching after the initial choice increases the probability of winning, illustrating the counterintuitive solution to the Monty Hall problem."
      ],
      "metadata": {
        "id": "6NBdEKyLDivx"
      }
    },
    {
      "cell_type": "markdown",
      "source": [
        "Q2. Extend your ChatBot sessions to now address part \"3(b)\" of the TUT Demo and interact with your ChatBot to see if it can suggest a simpler, more streamlined way to code up this for loop simulation so the process is more clear and easier to understand; then, describe any preferences you have in terms of readibility or explainability between the original code and the code improvements suggested by the ChatBot"
      ],
      "metadata": {
        "id": "09RqTSw-EsFz"
      }
    },
    {
      "cell_type": "code",
      "source": [
        "# import numpy as np\n",
        "\n",
        "# # Constants\n",
        "# DOOR_OPTIONS = [1, 2, 3]\n",
        "# REPS = 100000\n",
        "\n",
        "# # Initial variables\n",
        "# initial_choice = 1  # Consistent initial door choice for simplicity\n",
        "# wins_with_switch = 0\n",
        "\n",
        "# # Simulation loop\n",
        "# for _ in range(REPS):\n",
        "#     winning_door = np.random.choice(DOOR_OPTIONS)\n",
        "#     if initial_choice == winning_door:\n",
        "#         # Player initially chose the winning door\n",
        "#         remaining_doors = [door for door in DOOR_OPTIONS if door != initial_choice]\n",
        "#     else:\n",
        "#         # Player did not initially choose the winning door\n",
        "#         remaining_doors = [door for door in DOOR_OPTIONS if door not in (initial_choice, winning_door)]\n",
        "\n",
        "#     # Reveal a goat door from the remaining doors\n",
        "#     shown_goat_door = np.random.choice(remaining_doors)\n",
        "\n",
        "#     # Switch to the other door that was not initially chosen and not shown\n",
        "#     new_choice = next(door for door in DOOR_OPTIONS if door not in (initial_choice, shown_goat_door))\n",
        "\n",
        "#     # Check if the new choice is the winning door\n",
        "#     if new_choice == winning_door:\n",
        "#         wins_with_switch += 1\n",
        "\n",
        "# # Calculate probability of winning with a switch\n",
        "# win_probability = wins_with_switch / REPS\n",
        "# print(f\"Probability of winning by switching: {win_probability:.4f}\")\n"
      ],
      "metadata": {
        "colab": {
          "base_uri": "https://localhost:8080/"
        },
        "id": "CDADyp9pEtK3",
        "outputId": "50f2ffbf-1a6f-4809-dbb8-86bf52603a92"
      },
      "execution_count": null,
      "outputs": [
        {
          "output_type": "stream",
          "name": "stdout",
          "text": [
            "Probability of winning by switching: 0.6684\n"
          ]
        }
      ]
    },
    {
      "cell_type": "code",
      "source": [
        "import numpy as np\n",
        "\n",
        "# Constants\n",
        "REPS = 100000\n",
        "# do simulation 100000 times\n",
        "initial_choice = 1\n",
        "# Consistent initial door  same as choice my_door_choice = 1\n",
        "\n",
        "# Simulation loop\n",
        "wins_with_switch = 0\n",
        "#i_won=0\n",
        "for _ in range(REPS):\n",
        "  # start a loop, iter 100000 to simulate the game\n",
        "    winning_door = np.random.randint(1, 4)  # Choose a winning door between 1 2 3\n",
        "    if initial_choice != winning_door: # determine if the choosen door is not the winning door\n",
        "        # If we switch from the initial choice and initial choice was not the winning one,\n",
        "        # we will win because the game host shows us a goat door, not the initial or winning\n",
        "        wins_with_switch += 1\n",
        "\n",
        "# Calculate probability of winning with a switch\n",
        "win_probability = wins_with_switch / REPS\n",
        "print(f\"Probability of winning by switching: {win_probability:.4f}\")\n",
        "# produce the probability of winning with ..."
      ],
      "metadata": {
        "colab": {
          "base_uri": "https://localhost:8080/"
        },
        "id": "4MruoP64F4IW",
        "outputId": "c21d605d-8cb4-4fce-8d45-e1077085a801"
      },
      "execution_count": null,
      "outputs": [
        {
          "output_type": "stream",
          "name": "stdout",
          "text": [
            "Probability of winning by switching: 0.6664\n"
          ]
        }
      ]
    },
    {
      "cell_type": "markdown",
      "source": [
        "**Code Enhancements:**\n",
        "\n",
        "**Readability:** The code employs list comprehensions to filter available doors, clearly presenting the choices at each stage without the need to manually modify lists.\n",
        "\n",
        "**Efficiency:** It replaces the try-except block with conditions and list comprehensions, which effectively exclude doors that have already been considered.\n",
        "\n",
        "**Clarity:** The game steps (initial door selection, door reveal, and switching) are distinctly separated and explained with inline comments, making the code easier to comprehend.\n",
        "\n",
        "**Consistency:** The variable names are descriptive, allowing easy understanding of their roles without needing to reference comments or external explanations.\n",
        "\n",
        "**Preferences on Readability and Explainability:**\n",
        "\n",
        "**Original Code:** The original version uses an iterative approach with explicit list manipulations, which may reflect the game's thought process but can become confusing due to manual updates and exception handling.\n",
        "\n",
        "**Improved Code:** The revised version utilizes advanced Python features like list comprehensions and generator expressions. This not only reduces code length but also improves readability by creating a more logical and less error-prone decision flow. It’s generally more maintainable and easier to explain, especially for those unfamiliar with the code or the problem.\n",
        "\n",
        "**Conclusion:** The improved code strikes a better balance between technical efficiency and simplicity, making it a superior choice for educational and practical scenarios where clarity is essential."
      ],
      "metadata": {
        "id": "-roDtfJWE-kZ"
      }
    },
    {
      "cell_type": "markdown",
      "source": [
        "Q3. Submit your preferred version of the Monty Hall problem that is verified to be running and working with a final printed output of the code; then, add code comments explaining the purpose of each line of the code"
      ],
      "metadata": {
        "id": "_z6OJLM5FPEl"
      }
    },
    {
      "cell_type": "code",
      "source": [
        "import numpy as np\n",
        "\n",
        "# Constants\n",
        "REPS = 100000\n",
        "# do simulation 100000 times\n",
        "initial_choice = 1\n",
        "# Consistent initial door  same as choice my_door_choice = 1\n",
        "\n",
        "# Simulation loop\n",
        "wins_with_switch = 0\n",
        "#i_won=0\n",
        "for _ in range(REPS):\n",
        "  # start a loop, iter 100000 to simulate the game\n",
        "    winning_door = np.random.randint(1, 4)  # Choose a winning door between 1 2 3\n",
        "    if initial_choice != winning_door: # determine if the choosen door is not the winning door\n",
        "        # If we switch from the initial choice and initial choice was not the winning one,\n",
        "        # we will win because the game host shows us a goat door, not the initial or winning\n",
        "        wins_with_switch += 1\n",
        "\n",
        "# Calculate probability of winning with a switch\n",
        "win_probability = wins_with_switch / REPS\n",
        "print(f\"Probability of winning by switching: {win_probability:.4f}\")\n",
        "# produce the probability of winning with ...\n",
        "\n",
        "# give me the explanation of each line of code and tell me the purpose of each line ."
      ],
      "metadata": {
        "id": "Po-FSK8BgF2w"
      },
      "execution_count": null,
      "outputs": []
    },
    {
      "cell_type": "markdown",
      "source": [
        "4. Watch the embedded video tutorial on Markov chains in the next Jupyter cell below to understand their application and relevance for ChatBots; then, after watching the video, start a new ChatBot session by prompting that you have code that creates a \"Markovian ChatBot\"; show it the first version of the \"Markovian ChatBot code\" below; and interact with the ChatBot session to make sure you understand how the original first version of the \"Markovian ChatBot code\" works"
      ],
      "metadata": {
        "id": "Qx5r_tHWGBxO"
      }
    },
    {
      "cell_type": "code",
      "source": [
        "# Markov Chains and Text Generation\n",
        "from IPython.display import YouTubeVideo\n",
        "YouTubeVideo('56mGTszb_iM', width = 550)"
      ],
      "metadata": {
        "colab": {
          "base_uri": "https://localhost:8080/",
          "height": 321
        },
        "id": "vs-hF5xIGMX7",
        "outputId": "ba8d1715-3dba-440e-a79b-2b7f96ebbe06"
      },
      "execution_count": null,
      "outputs": [
        {
          "output_type": "execute_result",
          "data": {
            "text/plain": [
              "<IPython.lib.display.YouTubeVideo at 0x797b14752230>"
            ],
            "text/html": [
              "\n",
              "        <iframe\n",
              "            width=\"550\"\n",
              "            height=\"300\"\n",
              "            src=\"https://www.youtube.com/embed/56mGTszb_iM\"\n",
              "            frameborder=\"0\"\n",
              "            allowfullscreen\n",
              "            \n",
              "        ></iframe>\n",
              "        "
            ],
            "image/jpeg": "[encoded data removed]"
          },
          "metadata": {},
          "execution_count": 9
        }
      ]
    },
    {
      "cell_type": "code",
      "source": [
        "# Those are my code for creating a markov chain for generating text, explain the following code line by line.\n",
        "# from collections import defaultdict\n",
        "word_used = dict()  # defaultdict(int)\n",
        "next_word = dict()  # defaultdict(lambda: defaultdict(int))\n",
        "\n",
        "# - *Commented out import**: The `defaultdict` from `collections` module would simplify your code, but it seems like you've decided to use regular dictionaries instead.\n",
        "# - `word_used`: A dictionary to store the count of each word occurring in the corpus.\n",
        "# - `next_word`: A nested dictionary to store the subsequent word frequencies for each word.\n",
        "\n",
        "for i, word in enumerate(words[:-1]):\n",
        "\n",
        " #This line iterates over each word in the list `words`, except for the last word, using `enumerate` to get both the index `i` and the `word`.\n",
        "\n",
        "    if word in word_used:\n",
        "        word_used[word] += 1\n",
        "    else: # if word  not in word_used:\n",
        "        word_used[word] = 1 # initialize count as 1\n",
        "        next_word[word] = {} # empty dictionary , which use to store subsequent word frequencies\n",
        "# - **Conditional Check**: If the current word has already been encountered (`word in word_used`),\n",
        "# it increments its count. If not, it initializes the count to 1 and also sets up an empty dictionary for `next_word[word]` to store subsequent word counts.\n",
        "\n",
        "    if words[i+1] in next_word[word]:\n",
        "        next_word[word][words[i+1]] += 1\n",
        "    else:\n",
        "        next_word[word][words[i+1]] = 1\n",
        "\n",
        "# - **Tracking the next word**: For the current word, it checks if the next word (i.e., `words[i+1]`) is already in the nested dictionary `next_word[word]`.\n",
        "#   - If it is, it increments the count for that next word.\n",
        "#   - If not, it initializes the count of that next word to 1.\n",
        "\n",
        "#"
      ],
      "metadata": {
        "id": "0RmbEppOHMtK"
      },
      "execution_count": null,
      "outputs": []
    },
    {
      "cell_type": "markdown",
      "source": [
        "5.Recreate (or resume) the previous ChatBot session from question \"4\" above, and now prompt the ChatBot session that you have a couple extensions of the code to show it, and then show it each of the extentions of the \"Markovian ChatBot code\" below in turn"
      ],
      "metadata": {
        "id": "E8xOISJiL7bi"
      }
    },
    {
      "cell_type": "code",
      "source": [
        "# I have some extensions of upper Markovian chatbot, this is extension 1:'# Markovian Chatbot Extension #1\n",
        "\n",
        "# word_used2 = defaultdict(int)\n",
        "# next_word2 = defaultdict(lambda: defaultdict(int))\n",
        "# for i,word in enumerate(words[:-2]):\n",
        "#     word_used2[word+' '+words[i+1]] += 1\n",
        "#     next_word2[word+' '+words[i+1]][words[i+2]] += 1 '\n",
        "# explain details of the code and what the code is doing and how it works"
      ],
      "metadata": {
        "id": "VhNnD8cfO4Tf"
      },
      "execution_count": null,
      "outputs": []
    },
    {
      "cell_type": "code",
      "source": [
        "\n",
        "# Markovian Chatbot Extension #1\n",
        "from collections import defaultdict\n",
        "word_used2 = defaultdict(int)\n",
        "next_word2 = defaultdict(lambda: defaultdict(int))\n",
        "\n",
        "# word_used2: This dictionary now counts occurrences of bigrams (pairs of consecutive words) in the input data.\n",
        "# The defaultdict(int) automatically initializes counts to zero for any new bigram encountered.\n",
        "# next_word2: This nested defaultdict structure is designed to track the frequency of words following each bigram.\n",
        "#  The outer defaultdict initializes its values to another defaultdict(int), which means any new key automatically gets a dictionary that starts with counts at zero.\n",
        "# python\n",
        "\n",
        "for i, word in enumerate(words[:-2]):\n",
        "    word_used2[word+' '+words[i+1]] += 1\n",
        "    next_word2[word+' '+words[i+1]][words[i+2]] += 1\n",
        "# The loop iterates through the words in the list words, but stops two words before the end (words[:-2]) to prevent index errors when referencing words[i+1] and words[i+2].\n",
        "# word_used2[word+' '+words[i+1]] += 1: For each position i in the list, it forms a bigram from the current word word and the next word words[i+1],\n",
        "#  and increments the count of this bigram in word_used2.\n",
        "# next_word2[word+' '+words[i+1]][words[i+2]] += 1: Similarly,\n",
        "# it looks at the word that follows the bigram (words[i+2]) and increments the count of this word following the bigram in the next_word2 dictionary.\n",
        "\n",
        "# How the Code Works\n",
        "# The extended version of the Markovian chatbot models the transitions between sequences of words at a more granular level by considering pairs of words (bigrams) rather than individual words.\n",
        "#  This typically allows for more context to be retained, leading to generated text that may feel more natural or coherent. Here's a breakdown of its operation:\n",
        "\n",
        "# Tracking Bigrams: Instead of single words, the bot now considers pairs of words as its basic unit for counting occurrences and transitions.\n",
        "# This makes the model sensitive to two-word contexts.\n",
        "# Predicting Next Words: By knowing how often a particular word follows a specific bigram, the model can generate more contextually appropriate text when simulating conversation or text generation.\n",
        "# The next word is chosen based on its frequency of occurrence following a particular bigram.\n",
        "# Generating Text: To generate text, the model would likely start with a seed bigram, then probabilistically select the next word based on the frequencies recorded in next_word2.\n",
        "# This process repeats, with each new word forming a new bigram with the previous word, to continue generating text.\n",
        "# This approach enhances the \"memory\" of the chatbot by considering the immediate past (two words) instead of just one, potentially improving the quality and relevance of the generated content.\n",
        "\n",
        "\n",
        "\n",
        "\n",
        "\n",
        "\n"
      ],
      "metadata": {
        "id": "giGc2AHKPHtn"
      },
      "execution_count": null,
      "outputs": []
    },
    {
      "cell_type": "code",
      "source": [
        "\n",
        "from collections import Counter, defaultdict\n",
        "# `avatar` is a dataset, and `character` is one of its columns\n",
        "characters = Counter(\"\\n\"+ avatar.character.str.upper().str.replace(' ','.')+\":\")\n",
        "\n",
        "# - **Imports and Data Transformation**: The code imports `Counter` and `defaultdict` from the `collections` module. `Counter` is used for tallying occurrences efficiently.\n",
        "# - **Character Processing**: The `character` column of the dataset `avatar` is transformed by making all characters uppercase,\n",
        "# replacing spaces with periods, and appending and prepending specific characters to form a structured string.\n",
        "# This transformation is presumably for formatting reasons or to aid in distinguishing characters in some textual context.\n",
        "# - **Counting Characters**: A `Counter` is used to create a frequency distribution of these formatted strings,\n",
        "# which seems to be intended for tracking the presence of characters or certain patterns in the text.\n",
        "\n",
        "\n",
        "nested_dict = lambda: defaultdict(nested_dict) # same as before\n",
        "word_used2C = nested_dict()\n",
        "next_word2C = nested_dict() # subsequent pair prob\n",
        "\n",
        "# - **Nested Dictionary Function**: A lambda function defines a `nested_dict`, which creates a `defaultdict` where each default value is another `nested_dict`.\n",
        "#  This allows for creating a multi-level dictionary dynamically, which can grow as needed.\n",
        "# - **Usage of Nested Dictionaries**: `word_used2C` and `next_word2C` are declared as nested dictionaries.\n",
        "# These will store the frequency of words and subsequent word pairs, segmented by character context.\n",
        "\n",
        "\n",
        "for i, word in enumerate(words[:-2]):\n",
        "    if word in characters:\n",
        "        character = word\n",
        "\n",
        "    if character not in word_used2C:\n",
        "        word_used2C[character] = dict()\n",
        "    if word+' '+words[i+1] not in word_used2C[character]:\n",
        "        word_used2C[character][word+' '+words[i+1]] = 0\n",
        "    word_used2C[character][word+' '+words[i+1]] += 1\n",
        "\n",
        "# - **Iteration and Context Setting**: The loop goes through each word in the list except the last two (to prevent out-of-bounds errors).\n",
        "# - **Character Identification**: If a word matches one of the formatted character strings from the `characters` Counter, it is selected as the current context.\n",
        "# - **Word Pair Tracking**: For the current character, the code tracks the frequency of each bigram (pair of consecutive words).\n",
        "# If the bigram is new, it initializes its count; otherwise, it increments the existing count.\n",
        "\n",
        "\n",
        "    if character not in next_word2C:\n",
        "        next_word2C[character] = dict()\n",
        "    if word+' '+words[i+1] not in next_word2C[character]:\n",
        "        next_word2C[character][word+' '+words[i+1]] = dict()\n",
        "    if words[i+2] not in next_word2C[character][word+' '+words[i+1]]:\n",
        "        next_word2C[character][word+' '+words[i+1]][words[i+2]] = 0\n",
        "    next_word2C[character][word+' '+words[i+1]][words[i+2]] += 1\n",
        "\n",
        "\n",
        "# Next Word Counting: Similar to the previous block,\n",
        "#but this time it's counting the occurrences of the third word (words[i+2])\n",
        "#following the bigram (word + ' ' + words[i+1]) within the context of the current character."
      ],
      "metadata": {
        "id": "xyxv0eqHQKNA"
      },
      "execution_count": null,
      "outputs": []
    },
    {
      "cell_type": "markdown",
      "source": [
        "**How it Works:**  \n",
        "The code creates language models tailored to individual characters by recording word and bigram occurrences linked to each character in the avatar dataset. This approach enables personalized text generation that imitates the distinct style and linguistic patterns of various characters. It maintains separate dictionaries for each character, tracking word and bigram frequencies, allowing for text generation that mirrors the unique language characteristics of each character."
      ],
      "metadata": {
        "id": "XPPYbfrtO36W"
      }
    },
    {
      "cell_type": "markdown",
      "source": [
        "6. Report on your experience interacting with ChatBots to understand the Monte Hall problem and \"Markovian ChatBot\" code\n",
        "\n",
        "Discuss how quickly the ChatBot was able to be helpful for each of the above questions, and if so, how?\n",
        "\n",
        "\n",
        "Discuss whether or not interacting with ChatBot to try to figure things out was frustrating or unhelpful, and if so, how?\n",
        "\n",
        "\n",
        "Based on your experiences to date (e.g., including using ChatBots to troubleshoot coding errors in the previous homework), provide an overall assessment evaluating the usefulness of ChatBots as tools to help you understand code\n"
      ],
      "metadata": {
        "id": "47gRgYbHHVfA"
      }
    },
    {
      "cell_type": "markdown",
      "source": [
        "**Rapid Assistance from AI**\n",
        "\n",
        "**Quick Dataset Generation and Explanation:** AI can rapidly provide datasets and explain basic concepts, helping beginners grasp them quickly. For example, like in HW 1, we ask the chatbot to create a dataset to understand methods like `describe()` and `data.isna().sum()`, which is efficient.\n",
        "\n",
        "**Detailed Code Explanation:** AI provides detailed explanations of complex code, helping learners understand programming logic in depth. For instance, it can explain each line of code, as seen in question 1 of HW 2 about the Monty Hall problem, enhancing comprehension.\n",
        "\n",
        "**Code Simplification:** AI demonstrates its iterative and improvement capabilities by simplifying code examples, making learning more efficient. For example, in Q2, simplifying a loop makes the prompt loop clearer and easier to understand the underlying logic.\n",
        "\n",
        "**Frustration in Interactions**\n",
        "\n",
        "**Errors and Inaccuracies:** Incorrect code or explanations initially provided can cause frustration, requiring feedback for corrections. For instance, hints like \"simplify the loop\" in HW 1's second-to-last question.\n",
        "\n",
        "**Interaction Limitations:** AI’s responses may not always fully meet the requirements, necessitating further clarification and adjustments.\n",
        "\n",
        "**Overall Assessment**\n",
        "\n",
        "**Efficiency:** AI is very fast in generating and explaining code, significantly speeding up the learning process.\n",
        "\n",
        "**Deeper Understanding:** AI helps learners understand complex concepts through detailed explanations.\n",
        "\n",
        "**Personalized Assistance:** AI can provide specific help for individual problems, which is often difficult to achieve in traditional learning.\n",
        "\n",
        "**Iterative Learning:** AI allows for quick feedback, promoting iterative learning and problem-solving.\n",
        "\n",
        "Overall, AI shows great potential in aiding the understanding of programming and data science. Despite some challenges, its positive impact on learning is significant."
      ],
      "metadata": {
        "id": "JnUUj7BOqWIP"
      }
    },
    {
      "cell_type": "markdown",
      "source": [
        "7. Reflect on your experience interacting with ChatBot and describe how your perception of AI-driven assistance tools in the context of learning coding, statistics, and data science has been evolving (or not) since joining the course\n"
      ],
      "metadata": {
        "id": "XTUHTI4pGL90"
      }
    },
    {
      "cell_type": "markdown",
      "source": [
        "**Since joining the course, my understanding and evaluation of AI-driven tools in learning programming, statistics, and data science have significantly improved. Here are some key aspects of my evolving perspective:**\n",
        "\n",
        "1. **Increased Learning Efficiency:** AI tools greatly speed up the learning process by providing instant feedback and suggestions. This is especially valuable in programming and data science, where iterative testing and debugging are crucial for understanding.\n",
        "   * *Example:* AI can provide line-by-line code explanations to help clarify logic and functionality.\n",
        "\n",
        "2. **Making Complex Concepts Accessible:** AI helps explain complex statistical theories and data science concepts by generating examples and visualizing data, making these topics more understandable for beginners.\n",
        "   * *Example:* Creating sample datasets to demonstrate how functions work.\n",
        "\n",
        "3. **Personalized Learning:** AI-driven tools can adapt to a learner's pace and style, offering customized resources and challenges. This personalization makes learning more effective by focusing on individual strengths and weaknesses.\n",
        "   * *Example:* Prompting the chatbot to tailor responses and examples based on personal learning needs.\n",
        "\n",
        "4. **Encouraging Exploratory Learning:** With instant guidance from AI, learners are more likely to experiment, which deepens their exploration of subjects like programming, where trying different solutions is essential.\n",
        "\n",
        "5. **Bridging Skill Gaps:** AI serves as a bridge between disciplines like statistics and computer science, which are foundational to data science. AI tools can provide integrated content, helping learners understand how these fields interact and complement each other.\n",
        "\n",
        "6. **Limitations and Dependency:** While powerful, over-reliance on AI tools may hinder learning, especially if learners see them as a crutch rather than a supplement. Understanding these limitations is key to effectively leveraging AI in education.\n",
        "   * *Example:* Becoming too dependent on the chatbot’s hints, such as simplifying loops in HW 1's second-to-last question.\n",
        "\n",
        "7. **Ethical and Bias Considerations:** As I delve deeper into learning, the importance of understanding and addressing the ethical implications and biases that AI may bring becomes more apparent. This is crucial in data science, as AI-driven decisions can have significant impacts.\n",
        "   * *Example:* Awareness of ethical challenges and biases in AI-driven decision-making.\n",
        "\n",
        "Overall, my view of AI-driven educational tools has become more nuanced, recognizing their immense potential benefits while also acknowledging the need to manage their limitations."
      ],
      "metadata": {
        "id": "2GfW-IeasXQ-"
      }
    },
    {
      "cell_type": "code",
      "source": [],
      "metadata": {
        "id": "AfWfS11OsWkA"
      },
      "execution_count": null,
      "outputs": []
    },
    {
      "cell_type": "markdown",
      "source": [
        "8. ChatBots consume text data available on the web or platforms, and thus represents a new way to \"search consensensus\" that condenses and summarizes mainstream human thought\n",
        "\n",
        "Start a new chatbot session to explore the importance of skills such as learning and adaptability, communication, coding, and statistics and data analysis in today’s world, particularly in relation to career opportunities, especially within the data science industry.\n",
        "\n",
        "Ask the chatbot whether it's possible to work as a statistician or data scientist without coding or performing data analysis. Then, guide the conversation towards exploring potential careers, using the chatbot to identify which skills are most valuable for the career you’re interested in.\n",
        "\n",
        "After the session, request a summary from the chatbot and include it in your homework notebook, along with any relevant chat log links if available.\n",
        "\n",
        "Summarize the chatbot’s assessments and your reflections on the conversation, detailing your current thoughts about potential future careers and the steps you can take to develop the necessary skills to pursue them.\n"
      ],
      "metadata": {
        "id": "o9UldzI5LgL9"
      }
    },
    {
      "cell_type": "markdown",
      "source": [
        "do you think I can be a good statstician or data sciencist, based on what we discussed so far, # (which job is suitable for me), and identify the skills that might be most valuable for my career( data sciencist, SDE)"
      ],
      "metadata": {
        "id": "lr2g4b8utkZh"
      }
    },
    {
      "cell_type": "markdown",
      "source": [
        "9. Have you reviewed the course wiki-textbook and interacted with a ChatBot (or, if that wasn't sufficient, real people in the course piazza discussion board or TA office hours) to help you understand all the material in the tutorial and lecture that you didn't quite follow when you first saw it?\n",
        "\n",
        "Yes, I reviewed the course wiki-textbook and interacted with the ChatBot to understand the material in the tutorial and lecture, but I did not use the course Piazza discussion board or attend TA office hours when further clarification was needed.​"
      ],
      "metadata": {
        "id": "tZcNM8jKLrvh"
      }
    },
    {
      "cell_type": "markdown",
      "source": [],
      "metadata": {
        "id": "4Vjnv0studMG"
      }
    }
  ]
}